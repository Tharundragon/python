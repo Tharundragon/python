{
  "nbformat": 4,
  "nbformat_minor": 0,
  "metadata": {
    "colab": {
      "provenance": [],
      "include_colab_link": true
    },
    "kernelspec": {
      "name": "python3",
      "display_name": "Python 3"
    },
    "language_info": {
      "name": "python"
    }
  },
  "cells": [
    {
      "cell_type": "markdown",
      "metadata": {
        "id": "view-in-github",
        "colab_type": "text"
      },
      "source": [
        "<a href=\"https://colab.research.google.com/github/Tharundragon/python/blob/main/Data_Structures_20_exo.ipynb\" target=\"_parent\"><img src=\"https://colab.research.google.com/assets/colab-badge.svg\" alt=\"Open In Colab\"/></a>"
      ]
    },
    {
      "cell_type": "markdown",
      "source": [
        "**1.Perform Linear Search on an array.**"
      ],
      "metadata": {
        "id": "l3mzlybFAO7p"
      }
    },
    {
      "cell_type": "code",
      "source": [
        "def linearSearch(array, n, x):\n",
        "\n",
        "    # Going through array sequencially\n",
        "    for i in range(0, n):\n",
        "        if (array[i] == x):\n",
        "            return i\n",
        "    return -1\n",
        "\n",
        "\n",
        "array = [2, 4, 0, 1, 9]\n",
        "x = int(input())\n",
        "n = len(array)\n",
        "result = linearSearch(array, n, x)\n",
        "if(result == -1):\n",
        "    print(\"Element not found\")\n",
        "else:\n",
        "    print(\"Element found at index: \", result)"
      ],
      "metadata": {
        "colab": {
          "base_uri": "https://localhost:8080/"
        },
        "id": "EyRSa3pBASFI",
        "outputId": "77da74f0-0d11-4899-f735-92a70ee64c50"
      },
      "execution_count": null,
      "outputs": [
        {
          "output_type": "stream",
          "name": "stdout",
          "text": [
            "4\n",
            "Element found at index:  1\n"
          ]
        }
      ]
    },
    {
      "cell_type": "markdown",
      "source": [
        "**2.Perform Binary Search on a list stored in an array.**"
      ],
      "metadata": {
        "id": "Dwv3qRrewKrZ"
      }
    },
    {
      "cell_type": "code",
      "source": [
        "def binarySearch(array, x, low, high):\n",
        "    while low <= high:\n",
        "\n",
        "        mid = low + (high - low)//2\n",
        "\n",
        "        if array[mid] == x:\n",
        "            return mid\n",
        "\n",
        "        elif array[mid] < x:\n",
        "            low = mid + 1\n",
        "\n",
        "        else:\n",
        "            high = mid - 1\n",
        "\n",
        "    return -1\n",
        "array = [3, 4, 5, 6, 7, 8, 9]\n",
        "x = 4\n",
        "\n",
        "result = binarySearch(array, x, 0, len(array)-1)\n",
        "\n",
        "if result != -1:\n",
        "    print(\"Element is present at index \" + str(result))\n",
        "else:\n",
        "    print(\"Not found\")"
      ],
      "metadata": {
        "colab": {
          "base_uri": "https://localhost:8080/"
        },
        "id": "CjPbbW0dwO_T",
        "outputId": "ac96b42f-decb-4f72-f6f6-22801236fe85"
      },
      "execution_count": null,
      "outputs": [
        {
          "output_type": "stream",
          "name": "stdout",
          "text": [
            "Element is present at index 1\n"
          ]
        }
      ]
    },
    {
      "cell_type": "markdown",
      "source": [
        "**3.Develop a program to implement bubble sort technique.**"
      ],
      "metadata": {
        "id": "xkKFKZaPwhPV"
      }
    },
    {
      "cell_type": "code",
      "source": [
        "def bubbleSort(array):\n",
        "  for i in range(len(array)):\n",
        "\n",
        "    # loop to compare array elements\n",
        "    for j in range(0, len(array) - i - 1):\n",
        "      if array[j] > array[j + 1]:\n",
        "        temp = array[j]\n",
        "        array[j] = array[j+1]\n",
        "        array[j+1] = temp\n",
        "\n",
        "\n",
        "data = [-2, 45, 0, 11, -9]\n",
        "\n",
        "bubbleSort(data)\n",
        "\n",
        "print('Sorted Array in Ascending Order:')\n",
        "print(data)"
      ],
      "metadata": {
        "colab": {
          "base_uri": "https://localhost:8080/"
        },
        "id": "W1AsFPYMwm6S",
        "outputId": "20d2a02d-ff97-4423-d7d9-7ef47e79d774"
      },
      "execution_count": null,
      "outputs": [
        {
          "output_type": "stream",
          "name": "stdout",
          "text": [
            "Sorted Array in Ascending Order:\n",
            "[-9, -2, 0, 11, 45]\n"
          ]
        }
      ]
    },
    {
      "cell_type": "markdown",
      "source": [
        "**4.Develop a program to implement selection sort technique.**"
      ],
      "metadata": {
        "id": "lxQzE6RqLiXm"
      }
    },
    {
      "cell_type": "code",
      "source": [
        "def selectionSort(array, size):\n",
        "   for step in range(size):\n",
        "        min_idx = step\n",
        "        for i in range(step + 1, size):            \n",
        "            if array[i] < array[min_idx]:\n",
        "                min_idx = i\n",
        "        (array[step], array[min_idx]) = (array[min_idx], array[step])\n",
        "data = [-2, 45, 0, 11, -9]\n",
        "size = len(data)\n",
        "selectionSort(data, size)\n",
        "print(data)"
      ],
      "metadata": {
        "colab": {
          "base_uri": "https://localhost:8080/"
        },
        "id": "Fje6J-WpLe6g",
        "outputId": "d289c918-b33a-447b-9f37-136b5c688a50"
      },
      "execution_count": null,
      "outputs": [
        {
          "output_type": "stream",
          "name": "stdout",
          "text": [
            "[-9, -2, 0, 11, 45]\n"
          ]
        }
      ]
    },
    {
      "cell_type": "markdown",
      "source": [
        "**5.Develop a program to implement insertion sort technique.**"
      ],
      "metadata": {
        "id": "WcJ_E7OPDDUm"
      }
    },
    {
      "cell_type": "code",
      "source": [
        "def insertionSort(array):\n",
        "  for step in range(1, len(array)):\n",
        "    key = array[step]\n",
        "    j = step - 1\n",
        "    while j >= 0 & key < array[j]:\n",
        "      array[j + 1] = array[j]\n",
        "      j = j - 1\n",
        "    array[j + 1] = key\n",
        "data = [9, 5, 1, 4, 3]\n",
        "insertionSort(data)\n",
        "print(\"InsertionSort\", data)      "
      ],
      "metadata": {
        "colab": {
          "base_uri": "https://localhost:8080/"
        },
        "id": "kw6ad9khDKcJ",
        "outputId": "fd5ed395-b64b-44a2-be70-c8714c313dcb"
      },
      "execution_count": null,
      "outputs": [
        {
          "output_type": "stream",
          "name": "stdout",
          "text": [
            "InsertionSort [3, 4, 1, 5, 9]\n"
          ]
        }
      ]
    },
    {
      "cell_type": "markdown",
      "source": [
        "**6.Develop a program to implement quick sort technique.**"
      ],
      "metadata": {
        "id": "AovXiSCzw8Sq"
      }
    },
    {
      "cell_type": "code",
      "source": [
        "def partition(array, low, high):\n",
        "  pivot = array[high]\n",
        "\n",
        "  # pointer for greater element\n",
        "  i = low - 1\n",
        "  for j in range(low, high):\n",
        "    if array[j] <= pivot:\n",
        "      i = i + 1\n",
        "\n",
        "      # swapping element at i with element at j\n",
        "      (array[i], array[j]) = (array[j], array[i])\n",
        "\n",
        "  # swap the pivot element with the greater element specified by i\n",
        "  (array[i + 1], array[high]) = (array[high], array[i + 1])\n",
        "\n",
        "  # return the position from where partition is done\n",
        "  return i + 1\n",
        "\n",
        "# function to perform quicksort\n",
        "def quickSort(array, low, high):\n",
        "  if low < high:\n",
        "    pi = partition(array, low, high)\n",
        "\n",
        "    # recursive call on the left of pivot\n",
        "    quickSort(array, low, pi - 1)\n",
        "\n",
        "    # recursive call on the right of pivot\n",
        "    quickSort(array, pi + 1, high)\n",
        "\n",
        "\n",
        "data = [8, 7, 2, 1, 0, 9, 6]\n",
        "print(\"Unsorted Array\")\n",
        "print(data)\n",
        "\n",
        "size = len(data)\n",
        "\n",
        "quickSort(data, 0, size - 1)\n",
        "\n",
        "print('Sorted Array in Ascending Order:')\n",
        "print(data)"
      ],
      "metadata": {
        "colab": {
          "base_uri": "https://localhost:8080/"
        },
        "id": "22EB0g3FxBWf",
        "outputId": "9d763a33-c43f-4550-b1f9-6f261ec31388"
      },
      "execution_count": null,
      "outputs": [
        {
          "output_type": "stream",
          "name": "stdout",
          "text": [
            "Unsorted Array\n",
            "[8, 7, 2, 1, 0, 9, 6]\n",
            "Sorted Array in Ascending Order:\n",
            "[0, 1, 2, 6, 7, 8, 9]\n"
          ]
        }
      ]
    },
    {
      "cell_type": "markdown",
      "source": [
        "**7.Develop a program to implement merge sort technique.**"
      ],
      "metadata": {
        "id": "DgARFjPgXVTn"
      }
    },
    {
      "cell_type": "code",
      "source": [
        "def merge_sort(unsorted_array):\n",
        "    if len(unsorted_array) > 1:\n",
        "        mid = len(unsorted_array) // 2  # Finding the mid of the array\n",
        "        left = unsorted_array[:mid]  # Dividing the array elements\n",
        "        right = unsorted_array[mid:]  # into 2 halves\n",
        "\n",
        "        merge_sort(left)\n",
        "        merge_sort(right)\n",
        "\n",
        "        i = j = k = 0\n",
        "\n",
        "        #  data to temp arrays L[] and R[]\n",
        "        while i < len(left) and j < len(right):\n",
        "            if left[i] < right[j]:\n",
        "                unsorted_array[k] = left[i]\n",
        "                i += 1\n",
        "            else:\n",
        "                unsorted_array[k] = right[j]\n",
        "                j += 1\n",
        "            k += 1\n",
        "\n",
        "        # Checking if any element was left\n",
        "        while i < len(left):\n",
        "            unsorted_array[k] = left[i]\n",
        "            i += 1\n",
        "            k += 1\n",
        "\n",
        "        while j < len(right):\n",
        "            unsorted_array[k] = right[j]\n",
        "            j += 1\n",
        "            k += 1\n",
        "\n",
        "\n",
        "def print_list(array1):\n",
        "    for i in range(len(array1)):\n",
        "        print(array1[i], end=\" \")\n",
        "    print()\n",
        "\n",
        "if __name__ == '__main__':\n",
        "    array = [20, 30, 60, 40, 10, 50]\n",
        "    print(\"Given array is\", end=\"\\n\")\n",
        "    print_list(array)\n",
        "    merge_sort(array)\n",
        "    print(\"Sorted array is: \", end=\"\\n\")\n",
        "    print_list(array)"
      ],
      "metadata": {
        "colab": {
          "base_uri": "https://localhost:8080/"
        },
        "id": "fXwbvIcsSLgV",
        "outputId": "62ef98c9-65be-4738-a01b-36425d62c0bd"
      },
      "execution_count": null,
      "outputs": [
        {
          "output_type": "stream",
          "name": "stdout",
          "text": [
            "Given array is\n",
            "20 30 60 40 10 50 \n",
            "Sorted array is: \n",
            "10 20 30 40 50 60 \n"
          ]
        }
      ]
    },
    {
      "cell_type": "markdown",
      "source": [
        "**8. Design a program to create a singly linked list for the following operations**\n",
        " #**• Insert a Node at Beginning, at Ending and at a given Position**\n",
        " #**• Delete a Node at Beginning, at Ending and at a given Position**\n",
        " #**• Search, Count the Number of Nodes and Display**"
      ],
      "metadata": {
        "id": "ZAWN3bMNZ1X8"
      }
    },
    {
      "cell_type": "code",
      "source": [
        "class Node:\n",
        "    def __init__(self, data):\n",
        "        self.data = data\n",
        "        self.next = None\n",
        "\n",
        "\n",
        "class LinkedList:\n",
        "\n",
        "    def __init__(self):\n",
        "        self.head = None\n",
        "\n",
        "    # Insert at the beginning\n",
        "    def insertAtBeginning(self, new_data):\n",
        "        new_node = Node(new_data)\n",
        "\n",
        "        new_node.next = self.head\n",
        "        self.head = new_node\n",
        "\n",
        "    # Insert after a node\n",
        "    def insertAfter(self, prev_node, new_data):\n",
        "\n",
        "        if prev_node is None:\n",
        "            print(\"The given previous node must inLinkedList.\")\n",
        "            return\n",
        "\n",
        "        new_node = Node(new_data)\n",
        "        new_node.next = prev_node.next\n",
        "        prev_node.next = new_node\n",
        "\n",
        "    # Insert at the end\n",
        "    def insertAtEnd(self, new_data):\n",
        "        new_node = Node(new_data)\n",
        "\n",
        "        if self.head is None:\n",
        "            self.head = new_node\n",
        "            return\n",
        "\n",
        "        last = self.head\n",
        "        while (last.next):\n",
        "            last = last.next\n",
        "\n",
        "        last.next = new_node\n",
        "\n",
        "    # Deleting a node\n",
        "    def deleteNode(self, position):\n",
        "\n",
        "        if self.head is None:\n",
        "            return\n",
        "\n",
        "        temp = self.head\n",
        "\n",
        "        if position == 0:\n",
        "            self.head = temp.next\n",
        "            temp = None\n",
        "            return\n",
        "\n",
        "        # Find the key to be deleted\n",
        "        for i in range(position - 1):\n",
        "            temp = temp.next\n",
        "            if temp is None:\n",
        "                break\n",
        "\n",
        "        # If the key is not present\n",
        "        if temp is None:\n",
        "            return\n",
        "\n",
        "        if temp.next is None:\n",
        "            return\n",
        "\n",
        "        next = temp.next.next\n",
        "\n",
        "        temp.next = None\n",
        "\n",
        "        temp.next = next\n",
        "\n",
        "    # Search an element\n",
        "    def search(self, key):\n",
        "\n",
        "        current = self.head\n",
        "\n",
        "        while current is not None:\n",
        "            if current.data == key:\n",
        "                return True\n",
        "\n",
        "            current = current.next\n",
        "\n",
        "        return False\n",
        "\n",
        "    # Sort the linked list\n",
        "    def sortLinkedList(self, head):\n",
        "        current = head\n",
        "        index = Node(None)\n",
        "\n",
        "        if head is None:\n",
        "            return\n",
        "        else:\n",
        "            while current is not None:\n",
        "                # index points to the node next to current\n",
        "                index = current.next\n",
        "\n",
        "                while index is not None:\n",
        "                    if current.data > index.data:\n",
        "                        current.data, index.data = index.data, current.data\n",
        "\n",
        "                    index = index.next\n",
        "                current = current.next\n",
        "\n",
        "    # Print the linked list\n",
        "    def printList(self):\n",
        "        temp = self.head\n",
        "        while (temp):\n",
        "            print(str(temp.data) + \" \", end=\"\")\n",
        "            temp = temp.next\n",
        "\n",
        "\n",
        "if __name__ == '__main__':\n",
        "\n",
        "    llist = LinkedList()\n",
        "    llist.insertAtEnd(1)\n",
        "    llist.insertAtBeginning(2)\n",
        "    llist.insertAtBeginning(3)\n",
        "    llist.insertAtEnd(4)\n",
        "    llist.insertAfter(llist.head.next, 5)\n",
        "\n",
        "    print('linked list:')\n",
        "    llist.printList()\n",
        "\n",
        "    print(\"\\nAfter deleting an element:\")\n",
        "    llist.deleteNode(3)\n",
        "    llist.printList()\n",
        "\n",
        "    print()\n",
        "    item_to_find = 3\n",
        "    if llist.search(item_to_find):\n",
        "        print(str(item_to_find) + \" is found\")\n",
        "    else:\n",
        "        print(str(item_to_find) + \" is not found\")\n",
        "\n",
        "    llist.sortLinkedList(llist.head)\n",
        "    print(\"Sorted List: \")\n",
        "    llist.printList() "
      ],
      "metadata": {
        "colab": {
          "base_uri": "https://localhost:8080/"
        },
        "id": "wrCV9ON4Z9eE",
        "outputId": "a985095a-6278-41c1-868d-b39ecd406f6c"
      },
      "execution_count": null,
      "outputs": [
        {
          "output_type": "stream",
          "name": "stdout",
          "text": [
            "linked list:\n",
            "3 2 5 1 4 \n",
            "After deleting an element:\n",
            "3 2 5 4 \n",
            "3 is found\n",
            "Sorted List: \n",
            "2 3 4 5 "
          ]
        }
      ]
    },
    {
      "cell_type": "markdown",
      "source": [
        "**9.Design a program to create a doubly linked list for the following operations**\n",
        " #• **Insert a Node at Beginning, at Ending and at a given Position**\n",
        " #• **Delete a Node at Beginning, at Ending and at a given Position**\n",
        " #• **Search, Count the Number of Nodes and Display**"
      ],
      "metadata": {
        "id": "-ONWX5R6y0aj"
      }
    },
    {
      "cell_type": "code",
      "source": [
        "class Node:\n",
        "\n",
        "    def __init__(self, data):\n",
        "        self.data = data\n",
        "        self.next = None\n",
        "        self.prev = None\n",
        "\n",
        "\n",
        "class DoublyLinkedList:\n",
        "\n",
        "    def __init__(self):\n",
        "        self.head = None\n",
        "\n",
        "    # insert node at the front\n",
        "    def insert_front(self, data):\n",
        "\n",
        "        # allocate memory for newNode and assign data to newNode\n",
        "        new_node = Node(data)\n",
        "\n",
        "        # make newNode as a head\n",
        "        new_node.next = self.head\n",
        "\n",
        "        # assign null to prev (prev is already none in the constructore)\n",
        "\n",
        "        # previous of head (now head is the second node) is newNode\n",
        "        if self.head is not None:\n",
        "            self.head.prev = new_node\n",
        "\n",
        "        # head points to newNode\n",
        "        self.head = new_node\n",
        "\n",
        "    # insert a node after a specific node\n",
        "    def insert_after(self, prev_node, data):\n",
        "\n",
        "        # check if previous node is null\n",
        "        if prev_node is None:\n",
        "            print(\"previous node cannot be null\")\n",
        "            return\n",
        "\n",
        "        # allocate memory for newNode and assign data to newNode\n",
        "        new_node = Node(data)\n",
        "\n",
        "        # set next of newNode to next of prev node\n",
        "        new_node.next = prev_node.next\n",
        "\n",
        "        # set next of prev node to newNode\n",
        "        prev_node.next = new_node\n",
        "\n",
        "        # set prev of newNode to the previous node\n",
        "        new_node.prev = prev_node\n",
        "\n",
        "        # set prev of newNode's next to newNode\n",
        "        if new_node.next:\n",
        "            new_node.next.prev = new_node\n",
        "\n",
        "    # insert a newNode at the end of the list\n",
        "    def insert_end(self, data):\n",
        "\n",
        "        # allocate memory for newNode and assign data to newNode\n",
        "        new_node = Node(data)\n",
        "\n",
        "        # assign null to next of newNode (already done in constructor)\n",
        "\n",
        "        # if the linked list is empty, make the newNode as head node\n",
        "        if self.head is None:\n",
        "            self.head = new_node\n",
        "            return\n",
        "\n",
        "        # store the head node temporarily (for later use)\n",
        "        temp = self.head\n",
        "\n",
        "        # if the linked list is not empty, traverse to the end of the linked list\n",
        "        while temp.next:\n",
        "            temp = temp.next\n",
        "\n",
        "        # now, the last node of the linked list is temp\n",
        "\n",
        "        # assign next of the last node (temp) to newNode\n",
        "        temp.next = new_node\n",
        "\n",
        "        # assign prev of newNode to temp\n",
        "        new_node.prev = temp\n",
        "\n",
        "        return\n",
        "\n",
        "    # delete a node from the doubly linked list\n",
        "    def deleteNode(self, dele):\n",
        "\n",
        "        # if head or del is null, deletion is not possible\n",
        "        if self.head is None or dele is None:\n",
        "            return\n",
        "\n",
        "        # if del_node is the head node, point the head pointer to the next of del_node\n",
        "        if self.head == dele:\n",
        "            self.head = dele.next\n",
        "\n",
        "        # if del_node is not at the last node, point the prev of node next to del_node to the previous of del_node\n",
        "        if dele.next is not None:\n",
        "            dele.next.prev = dele.prev\n",
        "\n",
        "        # if del_node is not the first node, point the next of the previous node to the next node of del_node\n",
        "        if dele.prev is not None:\n",
        "            dele.prev.next = dele.next\n",
        "\n",
        "        # free the memory of del_node\n",
        "        gc.collect()\n",
        "\n",
        "    # print the doubly linked list\n",
        "    def display_list(self, node):\n",
        "\n",
        "        while node:\n",
        "            print(node.data, end=\"->\")\n",
        "            last = node\n",
        "            node = node.next\n",
        "\n",
        "\n",
        "# initialize an empty node\n",
        "d_linked_list = DoublyLinkedList()\n",
        "\n",
        "d_linked_list.insert_end(5)\n",
        "d_linked_list.insert_front(1)\n",
        "d_linked_list.insert_front(6)\n",
        "d_linked_list.insert_end(9)\n",
        "\n",
        "# insert 11 after head\n",
        "d_linked_list.insert_after(d_linked_list.head, 11)\n",
        "\n",
        "# insert 15 after the seond node\n",
        "d_linked_list.insert_after(d_linked_list.head.next, 15)\n",
        "\n",
        "d_linked_list.display_list(d_linked_list.head)\n",
        "\n",
        "# delete the last node\n",
        "d_linked_list.deleteNode(d_linked_list.head.next.next.next.next.next)\n",
        "\n",
        "print()\n",
        "d_linked_list.display_list(d_linked_list.head)"
      ],
      "metadata": {
        "colab": {
          "base_uri": "https://localhost:8080/"
        },
        "id": "2Hp-pfN_zEat",
        "outputId": "7b96c51e-b2bb-42b7-f547-c44c2a32f3ee"
      },
      "execution_count": null,
      "outputs": [
        {
          "output_type": "stream",
          "name": "stdout",
          "text": [
            "6->11->15->1->5->9->\n",
            "6->11->15->1->5->"
          ]
        }
      ]
    },
    {
      "cell_type": "markdown",
      "source": [
        "**10.Create a Circular singly linked list for adding and deleting a Node.**"
      ],
      "metadata": {
        "id": "gg3lUsAkzntl"
      }
    },
    {
      "cell_type": "code",
      "source": [
        "class Node:\n",
        "    def __init__(self, data):\n",
        "        self.data = data\n",
        "        self.next = None\n",
        "\n",
        "\n",
        "class CircularLinkedList:\n",
        "    def __init__(self):\n",
        "        self.last = None\n",
        "\n",
        "    def addToEmpty(self, data):\n",
        "\n",
        "        if self.last != None:\n",
        "            return self.last\n",
        "\n",
        "        # allocate memory to the new node and add data to the node\n",
        "        newNode = Node(data)\n",
        "\n",
        "        # assign last to newNode\n",
        "        self.last = newNode\n",
        "\n",
        "        # create link to iteself\n",
        "        self.last.next = self.last\n",
        "        return self.last\n",
        "\n",
        "    # add node to the front\n",
        "    def addFront(self, data):\n",
        "\n",
        "        # check if the list is empty\n",
        "        if self.last == None:\n",
        "            return self.addToEmpty(data)\n",
        "\n",
        "        # allocate memory to the new node and add data to the node\n",
        "        newNode = Node(data)\n",
        "\n",
        "        # store the address of the current first node in the newNode\n",
        "        newNode.next = self.last.next\n",
        "\n",
        "        # make newNode as last\n",
        "        self.last.next = newNode\n",
        "\n",
        "        return self.last\n",
        "\n",
        "    # add node to the end\n",
        "    def addEnd(self, data):\n",
        "        # check if the node is empty\n",
        "        if self.last == None:\n",
        "            return self.addToEmpty(data)\n",
        "\n",
        "        # allocate memory to the new node and add data to the node\n",
        "        newNode = Node(data)\n",
        "\n",
        "        # store the address of the last node to next of newNode\n",
        "        newNode.next = self.last.next\n",
        "\n",
        "        # point the current last node to the newNode\n",
        "        self.last.next = newNode\n",
        "\n",
        "        # make newNode as the last node\n",
        "        self.last = newNode\n",
        "\n",
        "        return self.last\n",
        "\n",
        "    # insert node after a specific node\n",
        "    def addAfter(self, data, item):\n",
        "\n",
        "        # check if the list is empty\n",
        "        if self.last == None:\n",
        "            return None\n",
        "\n",
        "        newNode = Node(data)\n",
        "        p = self.last.next\n",
        "        while p:\n",
        "\n",
        "            # if the item is found, place newNode after it\n",
        "            if p.data == item:\n",
        "\n",
        "                # make the next of the current node as the next of newNode\n",
        "                newNode.next = p.next\n",
        "\n",
        "                # put newNode to the next of p\n",
        "                p.next = newNode\n",
        "\n",
        "                if p == self.last:\n",
        "                    self.last = newNode\n",
        "                    return self.last\n",
        "                else:\n",
        "                    return self.last\n",
        "            p = p.next\n",
        "            if p == self.last.next:\n",
        "                print(item, \"The given node is not present in the list\")\n",
        "                break\n",
        "\n",
        "    # delete a node\n",
        "    def deleteNode(self, last, key):\n",
        "\n",
        "        # If linked list is empty\n",
        "        if last == None:\n",
        "            return\n",
        "\n",
        "        # If the list contains only a single node\n",
        "        if (last).data == key and (last).next == last:\n",
        "\n",
        "            last = None\n",
        "\n",
        "        temp = last\n",
        "        d = None\n",
        "\n",
        "        # if last node is to be deleted\n",
        "        if (last).data == key:\n",
        "\n",
        "            # find the node before the last node\n",
        "            while temp.next != last:\n",
        "                temp = temp.next\n",
        "\n",
        "            # point temp node to the next of last i.e. first node\n",
        "            temp.next = (last).next\n",
        "            last = temp.next\n",
        "\n",
        "        # travel to the node to be deleted\n",
        "        while temp.next != last and temp.next.data != key:\n",
        "            temp = temp.next\n",
        "\n",
        "        # if node to be deleted was found\n",
        "        if temp.next.data == key:\n",
        "            d = temp.next\n",
        "            temp.next = d.next\n",
        "\n",
        "        return last\n",
        "\n",
        "    def traverse(self):\n",
        "        if self.last == None:\n",
        "            print(\"The list is empty\")\n",
        "            return\n",
        "\n",
        "        newNode = self.last.next\n",
        "        while newNode:\n",
        "            print(newNode.data, end=\" \")\n",
        "            newNode = newNode.next\n",
        "            if newNode == self.last.next:\n",
        "                break\n",
        "\n",
        "\n",
        "# Driver Code\n",
        "if __name__ == \"__main__\":\n",
        "\n",
        "    cll = CircularLinkedList()\n",
        "\n",
        "    last = cll.addToEmpty(6)\n",
        "    last = cll.addEnd(8)\n",
        "    last = cll.addFront(2)\n",
        "    last = cll.addAfter(10, 2)\n",
        "\n",
        "    cll.traverse()\n",
        "\n",
        "    last = cll.deleteNode(last, 8)\n",
        "    print()\n",
        "    cll.traverse()"
      ],
      "metadata": {
        "colab": {
          "base_uri": "https://localhost:8080/"
        },
        "id": "gHyPBEbSzzh3",
        "outputId": "30de35db-7848-43d9-fdfa-7d06b872670c"
      },
      "execution_count": null,
      "outputs": [
        {
          "output_type": "stream",
          "name": "stdout",
          "text": [
            "2 10 6 8 \n",
            "2 10 6 "
          ]
        }
      ]
    },
    {
      "cell_type": "markdown",
      "source": [
        "**11.Create a stack and perform various operations on it.**\n"
      ],
      "metadata": {
        "id": "ZrRgVR6laOKP"
      }
    },
    {
      "cell_type": "code",
      "source": [
        "class Stack:\n",
        "    def __init__(self):\n",
        "        self.items = []\n",
        " \n",
        "    def is_empty(self):\n",
        "        return self.items == []\n",
        " \n",
        "    def push(self, data):\n",
        "        self.items.append(data)\n",
        " \n",
        "    def pop(self):\n",
        "        return self.items.pop()\n",
        "s = Stack()\n",
        "while True:\n",
        "    print('push <value>')\n",
        "    print('pop')\n",
        "    print('quit')\n",
        "    do = input('What would you like to do? ').split()\n",
        " \n",
        "    operation = do[0].strip().lower()\n",
        "    if operation == 'push':\n",
        "        s.push(int(do[1]))\n",
        "    elif operation == 'pop':\n",
        "        if s.is_empty():\n",
        "            print('Stack is empty.')\n",
        "        else:\n",
        "            print('Popped value: ', s.pop())\n",
        "    elif operation == 'quit':\n",
        "        break\n",
        "print('\\nElements popped from stack:')\n",
        "print(s.pop())\n",
        "print(s.pop())\n",
        "print(f\"Stack:{s}\")"
      ],
      "metadata": {
        "colab": {
          "base_uri": "https://localhost:8080/"
        },
        "id": "e-lMv3SDa9l4",
        "outputId": "ec00ee0f-d654-4377-f0c9-e21bde24b87b"
      },
      "execution_count": null,
      "outputs": [
        {
          "output_type": "stream",
          "name": "stdout",
          "text": [
            "push <value>\n",
            "pop\n",
            "quit\n",
            "What would you like to do? push 1\n",
            "push <value>\n",
            "pop\n",
            "quit\n",
            "What would you like to do? push 2\n",
            "push <value>\n",
            "pop\n",
            "quit\n",
            "What would you like to do? push 3\n",
            "push <value>\n",
            "pop\n",
            "quit\n",
            "What would you like to do? push 4\n",
            "push <value>\n",
            "pop\n",
            "quit\n",
            "What would you like to do? pop 4\n",
            "Popped value:  4\n",
            "push <value>\n",
            "pop\n",
            "quit\n",
            "What would you like to do? pop 2\n",
            "Popped value:  3\n",
            "push <value>\n",
            "pop\n",
            "quit\n",
            "What would you like to do? quit\n",
            "\n",
            "Elements popped from stack:\n",
            "2\n",
            "1\n",
            "Stack:<__main__.Stack object at 0x7f7f2c8d4a10>\n"
          ]
        }
      ]
    },
    {
      "cell_type": "markdown",
      "source": [
        "**12.Convert the infix expression into postfix form.**"
      ],
      "metadata": {
        "id": "ZM7A9Zf1ftrW"
      }
    },
    {
      "cell_type": "code",
      "source": [
        "class infix_to_postfix:\n",
        "    precedence={'^':5,'*':4,'/':4,'+':3,'-':3,'(':2,')':1}\n",
        "    def __init__(self):\n",
        "        self.items=[]\n",
        "        self.size=-1\n",
        "    def push(self,value):\n",
        "        self.items.append(value)\n",
        "        self.size+=1\n",
        "    def pop(self):\n",
        "        if self.isempty():\n",
        "            return 0\n",
        "        else:\n",
        "            self.size-=1\n",
        "            return self.items.pop()\n",
        "    def isempty(self):\n",
        "        if(self.size==-1):\n",
        "            return True\n",
        "        else:\n",
        "            return False\n",
        "    def seek(self):\n",
        "        if self.isempty():\n",
        "            return False\n",
        "        else:\n",
        "            return self.items[self.size]\n",
        "    def isOperand(self,i):\n",
        "        if i in 'ABCDEFGHIJKLMNOPQRSTUVWXYZ':\n",
        "            return True\n",
        "        else:\n",
        "            return False    \n",
        "    def infixtopostfix (self,expr):\n",
        "        postfix=\"\"\n",
        "        print('postfix expression after every iteration is:')\n",
        "        for i in expr:\n",
        "            if(len(expr)%2==0):\n",
        "                print(\"Incorrect infix expr\")\n",
        "                return False\n",
        "            elif(self.isOperand(i)):\n",
        "                postfix +=i\n",
        "            elif(i in '+-*/^'):\n",
        "                while(len(self.items)and self.precedence[i]<=self.precedence[self.seek()]):\n",
        "                    postfix+=self.pop()\n",
        "                self.push(i)\n",
        "            elif i is '(':\n",
        "                self.push(i)\n",
        "            elif i is ')':\n",
        "                o=self.pop()\n",
        "                while o!='(':\n",
        "                    postfix +=o\n",
        "                    o=self.pop()\n",
        "            print(postfix)\n",
        "                #end of for\n",
        "        while len(self.items):\n",
        "            if(self.seek()=='('):\n",
        "                self.pop()\n",
        "            else:\n",
        "                postfix+=self.pop()\n",
        "        return postfix\n",
        "s=infix_to_postfix()\n",
        "expr=input('enter the expression ')\n",
        "result=s.infixtopostfix(expr)\n",
        "if (result!=False):\n",
        "    print(\"the postfix expr of :\",expr,\"is\",result)"
      ],
      "metadata": {
        "colab": {
          "base_uri": "https://localhost:8080/"
        },
        "id": "IUQtrB3yg3vG",
        "outputId": "5c3f35a5-cdf5-4483-960f-456729b90858"
      },
      "execution_count": null,
      "outputs": [
        {
          "output_type": "stream",
          "name": "stdout",
          "text": [
            "enter the expression G+A+(U-R)^I\n",
            "postfix expression after every iteration is:\n",
            "G\n",
            "G\n",
            "GA\n",
            "GA+\n",
            "GA+\n",
            "GA+U\n",
            "GA+U\n",
            "GA+UR\n",
            "GA+UR-\n",
            "GA+UR-\n",
            "GA+UR-I\n",
            "the postfix expr of : G+A+(U-R)^I is GA+UR-I^+\n"
          ]
        }
      ]
    },
    {
      "cell_type": "markdown",
      "source": [
        "**13.Perform String reversal using stack**"
      ],
      "metadata": {
        "id": "CHMhvoFxjE1l"
      }
    },
    {
      "cell_type": "code",
      "source": [
        "class  Stack_to_reverse  :\n",
        "    # Creates  an  empty  stack.\n",
        "    def\t__init__(  self  ):\n",
        "        self.items  =  list()\n",
        "        self.size=-1\n",
        "    #Returns  True  if  the  stack  is  empty  or  False  otherwise.\n",
        "    def  isEmpty(  self  ):\n",
        "        if(self.size==-1):\n",
        "            return True\n",
        "        else:\n",
        "            return False\n",
        "    # Removes  and  returns  the  top  item  on  the  stack.\n",
        "    def  pop(  self  ):\n",
        "        if  self.isEmpty():\n",
        "            print(\"Stack is empty\")\n",
        "        else:\n",
        "            return self.items.pop()\n",
        "            self.size-=1\n",
        "\n",
        "    # Push  an  item  onto  the  top  of  the  stack.\n",
        "    def  push(  self,  item  ):\n",
        "        self.items.append(item)\n",
        "        self.size+=1\n",
        "\n",
        "    def reverse(self,string):\n",
        "        n = len(string)\n",
        " # Push all characters of string to stack\n",
        "        for i in range(0,n):\n",
        "            S.push(string[i])\n",
        "\n",
        " # Making the string empty since all characters are saved in stack\n",
        "        string=\"\"\n",
        "\n",
        " # Pop all characters of string and put them back to string\n",
        "        for i in range(0,n):\n",
        "            string+=S.pop()\n",
        "        return string\n",
        "S=Stack_to_reverse()\n",
        "seq=input(\"Enter a string to be reversed:\")\n",
        "sequence = S.reverse(seq)\n",
        "print(\"Reversed string is: \" + sequence)"
      ],
      "metadata": {
        "colab": {
          "base_uri": "https://localhost:8080/"
        },
        "id": "AWsyQEvYjOHV",
        "outputId": "c3174bfc-06f5-4c27-c4db-2d2061f579b5"
      },
      "execution_count": null,
      "outputs": [
        {
          "output_type": "stream",
          "name": "stdout",
          "text": [
            "Enter a string to be reversed:Tharun\n",
            "Reversed string is: nurahT\n"
          ]
        }
      ]
    },
    {
      "cell_type": "markdown",
      "source": [
        "**14.Evaluation of postfix expression**"
      ],
      "metadata": {
        "id": "QiHk-HinpeT1"
      }
    },
    {
      "cell_type": "code",
      "source": [
        "class evaluate_postfix:\n",
        "    def __init__(self):\n",
        "        self.items=[]\n",
        "        self.size=-1\n",
        "    def isEmpty(self):\n",
        "        return self.items==[]\n",
        "    def push(self,item):\n",
        "        self.items.append(item)\n",
        "        self.size+=1\n",
        "    def pop(self):\n",
        "        if self.isEmpty():\n",
        "            return 0\n",
        "        else:\n",
        "            self.size-=1\n",
        "            return self.items.pop()\n",
        "    def seek(self):\n",
        "        if self.isEmpty():\n",
        "            return False\n",
        "        else:\n",
        "            return self.items[self.size]\n",
        "    def evalute(self,expr):\n",
        "        for i in expr:\n",
        "            if i in '0123456789':\n",
        "                self.push(i)\n",
        "            else:\n",
        "                op1=self.pop()\n",
        "                op2=self.pop()\n",
        "                result=self.cal(op2,op1,i)\n",
        "                self.push(result)\n",
        "        return self.pop()\n",
        "    def cal(self,op2,op1,i):\n",
        "        if i is '*':\n",
        "            return int(op2)*int(op1)\n",
        "        elif i is '/':\n",
        "            return int(op2)/int(op1)\n",
        "        elif i is '+':\n",
        "            return int(op2)+int(op1)\n",
        "        elif i is '-':\n",
        "            return int(op2)-int(op1)\n",
        "        elif i is '%':\n",
        "            return int(op2)%int(op1)    \n",
        "s=evaluate_postfix()\n",
        "expr=input('enter the postfix expression')\n",
        "value=s.evalute(expr)\n",
        "print('the result of postfix expression',expr,'is',value)"
      ],
      "metadata": {
        "colab": {
          "base_uri": "https://localhost:8080/"
        },
        "id": "DQvkVSLgpG6n",
        "outputId": "97760a77-738e-42db-a646-d5c8ca9189ed"
      },
      "execution_count": null,
      "outputs": [
        {
          "output_type": "stream",
          "name": "stdout",
          "text": [
            "enter the postfix expression56/45*23++\n",
            "the result of postfix expression 56/45*23++ is 25\n"
          ]
        }
      ]
    },
    {
      "cell_type": "markdown",
      "source": [
        "**15.Create a queue and perform various operations on it.**"
      ],
      "metadata": {
        "id": "QaD5AxNQ2SBE"
      }
    },
    {
      "cell_type": "code",
      "source": [
        "# Queue implementation in Python\n",
        "class Queue:\n",
        "\n",
        "    def __init__(self):\n",
        "        self.queue = []\n",
        "\n",
        "    # Add an element\n",
        "    def enqueue(self, item):\n",
        "        self.queue.append(item)\n",
        "\n",
        "    # Remove an element\n",
        "    def dequeue(self):\n",
        "        if len(self.queue) < 1:\n",
        "            return None\n",
        "        return self.queue.pop(0)\n",
        "\n",
        "    # Display  the queue\n",
        "    def display(self):\n",
        "        print(self.queue)\n",
        "\n",
        "    def size(self):\n",
        "        return len(self.queue)\n",
        "q = Queue()\n",
        "q.enqueue(1)\n",
        "q.enqueue(2)\n",
        "q.enqueue(3)\n",
        "q.enqueue(4)\n",
        "q.enqueue(5)\n",
        "\n",
        "q.display()\n",
        "\n",
        "q.dequeue()\n",
        "\n",
        "print(\"After removing an element\")\n",
        "q.display()"
      ],
      "metadata": {
        "colab": {
          "base_uri": "https://localhost:8080/"
        },
        "id": "N0rPoNd62YVk",
        "outputId": "936a3ffc-d185-4ab3-8d61-2db04d8f0d98"
      },
      "execution_count": null,
      "outputs": [
        {
          "output_type": "stream",
          "name": "stdout",
          "text": [
            "[1, 2, 3, 4, 5]\n",
            "After removing an element\n",
            "[2, 3, 4, 5]\n"
          ]
        }
      ]
    },
    {
      "cell_type": "markdown",
      "source": [
        "**16.Construct a binary tree and perform various traversals.**"
      ],
      "metadata": {
        "id": "eJify2gKvZS8"
      }
    },
    {
      "cell_type": "code",
      "source": [
        "class Node:\n",
        "    def __init__(self, item):\n",
        "        self.left = None\n",
        "        self.right = None\n",
        "        self.val = item\n",
        "def inorder(root):\n",
        "\n",
        "    if root:\n",
        "        # Traverse left\n",
        "        inorder(root.left)\n",
        "        # Traverse root\n",
        "        print(str(root.val) + \"->\", end='')\n",
        "        # Traverse right\n",
        "        inorder(root.right)\n",
        "def postorder(root):\n",
        "\n",
        "    if root:\n",
        "        # Traverse left\n",
        "        postorder(root.left)\n",
        "        # Traverse right\n",
        "        postorder(root.right)\n",
        "        # Traverse root\n",
        "        print(str(root.val) + \"->\", end='')\n",
        "def preorder(root):\n",
        "\n",
        "    if root:\n",
        "        print(str(root.val) + \"->\", end='')\n",
        "        preorder(root.left)\n",
        "        preorder(root.right)\n",
        "root = Node(1)\n",
        "root.left = Node(2)\n",
        "root.right = Node(3)\n",
        "root.left.left = Node(4)\n",
        "root.left.right = Node(5)\n",
        "print(\"Inorder traversal \")\n",
        "inorder(root)\n",
        "print(\"\\nPreorder traversal \")\n",
        "preorder(root)\n",
        "print(\"\\nPostorder traversal \")\n",
        "postorder(root)"
      ],
      "metadata": {
        "colab": {
          "base_uri": "https://localhost:8080/"
        },
        "id": "nja4eoVDvd0y",
        "outputId": "c138cd0d-ee08-424f-c551-67e483c885c9"
      },
      "execution_count": null,
      "outputs": [
        {
          "output_type": "stream",
          "name": "stdout",
          "text": [
            "Inorder traversal \n",
            "4->2->5->1->3->\n",
            "Preorder traversal \n",
            "1->2->4->5->3->\n",
            "Postorder traversal \n",
            "4->5->2->3->1->"
          ]
        }
      ]
    },
    {
      "cell_type": "markdown",
      "source": [
        "**17.Construct a binary search tree and perform a search operation.**"
      ],
      "metadata": {
        "id": "YqGbzr5QpkvQ"
      }
    },
    {
      "cell_type": "code",
      "source": [
        "class GFG :\n",
        "\tdef main( args) :\n",
        "\t\ttree = BST()\n",
        "\t\ttree.insert(25)\n",
        "\t\ttree.insert(60)\n",
        "\t\ttree.insert(75)\n",
        "\t\ttree.insert(20)\n",
        "\t\ttree.insert(10)\n",
        "\t\ttree.insert(30)\n",
        "\t\ttree.insert(60)\n",
        "\t\ttree.inorder()\n",
        "class Node :\n",
        "\tleft = None\n",
        "\tval = 0\n",
        "\tright = None\n",
        "\tdef __init__(self, val) :\n",
        "\t\tself.val = val\n",
        "class BST :\n",
        "\troot = None\n",
        "\tdef insert(self, key) :\n",
        "\t\tnode = Node(key)\n",
        "\t\tif (self.root == None) :\n",
        "\t\t\tself.root = node\n",
        "\t\t\treturn\n",
        "\t\tprev = None\n",
        "\t\ttemp = self.root\n",
        "\t\twhile (temp != None) :\n",
        "\t\t\tif (temp.val > key) :\n",
        "\t\t\t\tprev = temp\n",
        "\t\t\t\ttemp = temp.left\n",
        "\t\t\telif(temp.val < key) :\n",
        "\t\t\t\tprev = temp\n",
        "\t\t\t\ttemp = temp.right\n",
        "\t\tif (prev.val > key) :\n",
        "\t\t\tprev.left = node\n",
        "\t\telse :\n",
        "\t\t\tprev.right = node\n",
        "\tdef inorder(self) :\n",
        "\t\ttemp = self.root\n",
        "\t\tstack = []\n",
        "\t\twhile (temp != None or not (len(stack) == 0)) :\n",
        "\t\t\tif (temp != None) :\n",
        "\t\t\t\tstack.append(temp)\n",
        "\t\t\t\ttemp = temp.left\n",
        "\t\t\telse :\n",
        "\t\t\t\ttemp = stack.pop()\n",
        "\t\t\t\tprint(str(temp.val) + \" \", end =\"\")\n",
        "\t\t\t\ttemp = temp.right\n",
        "\t\n",
        "if __name__==\"__main__\":\n",
        "\tGFG.main([])"
      ],
      "metadata": {
        "colab": {
          "base_uri": "https://localhost:8080/",
          "height": 345
        },
        "id": "STIKJCwJprsS",
        "outputId": "be0dc8a1-501f-479f-e857-4bbfaf8977ed"
      },
      "execution_count": null,
      "outputs": [
        {
          "output_type": "error",
          "ename": "KeyboardInterrupt",
          "evalue": "ignored",
          "traceback": [
            "\u001b[0;31m---------------------------------------------------------------------------\u001b[0m",
            "\u001b[0;31mKeyboardInterrupt\u001b[0m                         Traceback (most recent call last)",
            "\u001b[0;32m<ipython-input-3-d7e1d174c03e>\u001b[0m in \u001b[0;36m<module>\u001b[0;34m\u001b[0m\n\u001b[1;32m     49\u001b[0m \u001b[0;34m\u001b[0m\u001b[0m\n\u001b[1;32m     50\u001b[0m \u001b[0;32mif\u001b[0m \u001b[0m__name__\u001b[0m\u001b[0;34m==\u001b[0m\u001b[0;34m\"__main__\"\u001b[0m\u001b[0;34m:\u001b[0m\u001b[0;34m\u001b[0m\u001b[0;34m\u001b[0m\u001b[0m\n\u001b[0;32m---> 51\u001b[0;31m         \u001b[0mGFG\u001b[0m\u001b[0;34m.\u001b[0m\u001b[0mmain\u001b[0m\u001b[0;34m(\u001b[0m\u001b[0;34m[\u001b[0m\u001b[0;34m]\u001b[0m\u001b[0;34m)\u001b[0m\u001b[0;34m\u001b[0m\u001b[0;34m\u001b[0m\u001b[0m\n\u001b[0m",
            "\u001b[0;32m<ipython-input-3-d7e1d174c03e>\u001b[0m in \u001b[0;36mmain\u001b[0;34m(args)\u001b[0m\n\u001b[1;32m      8\u001b[0m                 \u001b[0mtree\u001b[0m\u001b[0;34m.\u001b[0m\u001b[0minsert\u001b[0m\u001b[0;34m(\u001b[0m\u001b[0;36m10\u001b[0m\u001b[0;34m)\u001b[0m\u001b[0;34m\u001b[0m\u001b[0;34m\u001b[0m\u001b[0m\n\u001b[1;32m      9\u001b[0m                 \u001b[0mtree\u001b[0m\u001b[0;34m.\u001b[0m\u001b[0minsert\u001b[0m\u001b[0;34m(\u001b[0m\u001b[0;36m30\u001b[0m\u001b[0;34m)\u001b[0m\u001b[0;34m\u001b[0m\u001b[0;34m\u001b[0m\u001b[0m\n\u001b[0;32m---> 10\u001b[0;31m                 \u001b[0mtree\u001b[0m\u001b[0;34m.\u001b[0m\u001b[0minsert\u001b[0m\u001b[0;34m(\u001b[0m\u001b[0;36m60\u001b[0m\u001b[0;34m)\u001b[0m\u001b[0;34m\u001b[0m\u001b[0;34m\u001b[0m\u001b[0m\n\u001b[0m\u001b[1;32m     11\u001b[0m                 \u001b[0mtree\u001b[0m\u001b[0;34m.\u001b[0m\u001b[0minorder\u001b[0m\u001b[0;34m(\u001b[0m\u001b[0;34m)\u001b[0m\u001b[0;34m\u001b[0m\u001b[0;34m\u001b[0m\u001b[0m\n\u001b[1;32m     12\u001b[0m \u001b[0;32mclass\u001b[0m \u001b[0mNode\u001b[0m \u001b[0;34m:\u001b[0m\u001b[0;34m\u001b[0m\u001b[0;34m\u001b[0m\u001b[0m\n",
            "\u001b[0;32m<ipython-input-3-d7e1d174c03e>\u001b[0m in \u001b[0;36minsert\u001b[0;34m(self, key)\u001b[0m\n\u001b[1;32m     26\u001b[0m                 \u001b[0mtemp\u001b[0m \u001b[0;34m=\u001b[0m \u001b[0mself\u001b[0m\u001b[0;34m.\u001b[0m\u001b[0mroot\u001b[0m\u001b[0;34m\u001b[0m\u001b[0;34m\u001b[0m\u001b[0m\n\u001b[1;32m     27\u001b[0m                 \u001b[0;32mwhile\u001b[0m \u001b[0;34m(\u001b[0m\u001b[0mtemp\u001b[0m \u001b[0;34m!=\u001b[0m \u001b[0;32mNone\u001b[0m\u001b[0;34m)\u001b[0m \u001b[0;34m:\u001b[0m\u001b[0;34m\u001b[0m\u001b[0;34m\u001b[0m\u001b[0m\n\u001b[0;32m---> 28\u001b[0;31m                         \u001b[0;32mif\u001b[0m \u001b[0;34m(\u001b[0m\u001b[0mtemp\u001b[0m\u001b[0;34m.\u001b[0m\u001b[0mval\u001b[0m \u001b[0;34m>\u001b[0m \u001b[0mkey\u001b[0m\u001b[0;34m)\u001b[0m \u001b[0;34m:\u001b[0m\u001b[0;34m\u001b[0m\u001b[0;34m\u001b[0m\u001b[0m\n\u001b[0m\u001b[1;32m     29\u001b[0m                                 \u001b[0mprev\u001b[0m \u001b[0;34m=\u001b[0m \u001b[0mtemp\u001b[0m\u001b[0;34m\u001b[0m\u001b[0;34m\u001b[0m\u001b[0m\n\u001b[1;32m     30\u001b[0m                                 \u001b[0mtemp\u001b[0m \u001b[0;34m=\u001b[0m \u001b[0mtemp\u001b[0m\u001b[0;34m.\u001b[0m\u001b[0mleft\u001b[0m\u001b[0;34m\u001b[0m\u001b[0;34m\u001b[0m\u001b[0m\n",
            "\u001b[0;31mKeyboardInterrupt\u001b[0m: "
          ]
        }
      ]
    },
    {
      "cell_type": "markdown",
      "source": [
        "**19.Implement Dijkstra’s Shortest Path Algorithm**"
      ],
      "metadata": {
        "id": "l6cngq6V0sc6"
      }
    },
    {
      "cell_type": "code",
      "source": [
        "import heapq\n",
        "\n",
        "\n",
        "def calculate_distances(graph, starting_vertex):\n",
        "    distances = {vertex: float('infinity') for vertex in graph}\n",
        "    distances[starting_vertex] = 0\n",
        "\n",
        "    pq = [(0, starting_vertex)]\n",
        "    while len(pq) > 0:\n",
        "        current_distance, current_vertex = heapq.heappop(pq)\n",
        "\n",
        "        # Nodes can get added to the priority queue multiple times. We only\n",
        "        # process a vertex the first time we remove it from the priority queue.\n",
        "        if current_distance > distances[current_vertex]:\n",
        "            continue\n",
        "\n",
        "        for neighbor, weight in graph[current_vertex].items():\n",
        "            distance = current_distance + weight\n",
        "\n",
        "            # Only consider this new path if it's better than any path we've\n",
        "            # already found.\n",
        "            if distance < distances[neighbor]:\n",
        "                distances[neighbor] = distance\n",
        "                heapq.heappush(pq, (distance, neighbor))\n",
        "\n",
        "    return distances\n",
        "\n",
        "\n",
        "example_graph = {\n",
        "    'U': {'V': 2, 'W': 5, 'X': 1},\n",
        "    'V': {'U': 2, 'X': 2, 'W': 3},\n",
        "    'W': {'V': 3, 'U': 5, 'X': 3, 'Y': 1, 'Z': 5},\n",
        "    'X': {'U': 1, 'V': 2, 'W': 3, 'Y': 1},\n",
        "    'Y': {'X': 1, 'W': 1, 'Z': 1},\n",
        "    'Z': {'W': 5, 'Y': 1},\n",
        "}\n",
        "print(calculate_distances(example_graph, 'X'))"
      ],
      "metadata": {
        "colab": {
          "base_uri": "https://localhost:8080/"
        },
        "id": "piu_5TH60r7W",
        "outputId": "e068cad7-5ac1-439b-ef57-9f23ae38a632"
      },
      "execution_count": null,
      "outputs": [
        {
          "output_type": "stream",
          "name": "stdout",
          "text": [
            "{'U': 1, 'V': 2, 'W': 2, 'X': 0, 'Y': 1, 'Z': 2}\n"
          ]
        }
      ]
    },
    {
      "cell_type": "markdown",
      "source": [
        "18.deapth search"
      ],
      "metadata": {
        "id": "4ImAqB592gQg"
      }
    },
    {
      "cell_type": "code",
      "source": [
        "# Using a Python dictionary to act as an adjacency list\n",
        "graph = {\n",
        "  '5' : ['3','7'],\n",
        "  '3' : ['2', '4'],\n",
        "  '7' : ['8'],\n",
        "  '2' : [],\n",
        "  '4' : ['8'],\n",
        "  '8' : []\n",
        "}\n",
        "\n",
        "visited = set() # Set to keep track of visited nodes of graph.\n",
        "\n",
        "def dfs(visited, graph, node):  #function for dfs \n",
        "    if node not in visited:\n",
        "        print (node)\n",
        "        visited.add(node)\n",
        "        for neighbour in graph[node]:\n",
        "            dfs(visited, graph, neighbour)\n",
        "\n",
        "# Driver Code\n",
        "print(\"Following is the Depth-First Search\")\n",
        "dfs(visited, graph, '5')"
      ],
      "metadata": {
        "colab": {
          "base_uri": "https://localhost:8080/"
        },
        "id": "mXdjoGVn2f7m",
        "outputId": "1d059a52-2e81-414e-ea34-f89c8a669c23"
      },
      "execution_count": null,
      "outputs": [
        {
          "output_type": "stream",
          "name": "stdout",
          "text": [
            "Following is the Depth-First Search\n",
            "5\n",
            "3\n",
            "2\n",
            "4\n",
            "8\n",
            "7\n"
          ]
        }
      ]
    },
    {
      "cell_type": "markdown",
      "source": [
        "18.breath search"
      ],
      "metadata": {
        "id": "40-iPDOn2xmL"
      }
    },
    {
      "cell_type": "code",
      "source": [
        "graph = {\n",
        "  '5' : ['3','7'],\n",
        "  '3' : ['2', '4'],\n",
        "  '7' : ['8'],\n",
        "  '2' : [],\n",
        "  '4' : ['8'],\n",
        "  '8' : []\n",
        "}\n",
        "\n",
        "visited = [] # List for visited nodes.\n",
        "queue = []     #Initialize a queue\n",
        "\n",
        "def bfs(visited, graph, node): #function for BFS\n",
        "  visited.append(node)\n",
        "  queue.append(node)\n",
        "\n",
        "  while queue:          # Creating loop to visit each node\n",
        "    m = queue.pop(0) \n",
        "    print (m, end = \" \") \n",
        "\n",
        "    for neighbour in graph[m]:\n",
        "      if neighbour not in visited:\n",
        "        visited.append(neighbour)\n",
        "        queue.append(neighbour)\n",
        "\n",
        "# Driver Code\n",
        "print(\"Following is the Breadth-First Search\")\n",
        "bfs(visited, graph, '5')    # function calling"
      ],
      "metadata": {
        "id": "_kGzIqW62xOD"
      },
      "execution_count": null,
      "outputs": []
    },
    {
      "cell_type": "markdown",
      "source": [
        "20.heap sort"
      ],
      "metadata": {
        "id": "u-HU3phd25-v"
      }
    },
    {
      "cell_type": "code",
      "source": [
        "# heapify\n",
        "def heapify(arr, n, i):\n",
        "   largest = i # largest value\n",
        "   l = 2 * i + 1 # left\n",
        "   r = 2 * i + 2 # right\n",
        "   # if left child exists\n",
        "   if l < n and arr[i] < arr[l]:\n",
        "      largest = l\n",
        "   # if right child exits\n",
        "   if r < n and arr[largest] < arr[r]:\n",
        "      largest = r\n",
        "   # root\n",
        "   if largest != i:\n",
        "      arr[i],arr[largest] = arr[largest],arr[i] # swap\n",
        "      # root.\n",
        "      heapify(arr, n, largest)\n",
        "# sort\n",
        "def heapSort(arr):\n",
        "   n = len(arr)\n",
        "   # maxheap\n",
        "   for i in range(n, -1, -1):\n",
        "      heapify(arr, n, i)\n",
        "   # element extraction\n",
        "   for i in range(n-1, 0, -1):\n",
        "      arr[i], arr[0] = arr[0], arr[i] # swap\n",
        "      heapify(arr, i, 0)\n",
        "# main\n",
        "arr = [2,5,3,8,6,5,4,7]\n",
        "heapSort(arr)\n",
        "n = len(arr)\n",
        "print (\"Sorted array is\")\n",
        "for i in range(n):\n",
        "   print (arr[i],end=\" \")"
      ],
      "metadata": {
        "colab": {
          "base_uri": "https://localhost:8080/"
        },
        "id": "ApMkqWaN263s",
        "outputId": "b8982987-62fb-4608-8172-9dac2f5c43d5"
      },
      "execution_count": null,
      "outputs": [
        {
          "output_type": "stream",
          "name": "stdout",
          "text": [
            "Sorted array is\n",
            "2 3 4 5 5 6 7 8 "
          ]
        }
      ]
    }
  ]
}